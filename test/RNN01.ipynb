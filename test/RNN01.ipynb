{
  "nbformat": 4,
  "nbformat_minor": 0,
  "metadata": {
    "colab": {
      "name": "Untitled15.ipynb",
      "provenance": [],
      "authorship_tag": "ABX9TyNlES6Yiai03Cstt7mdd08v",
      "include_colab_link": true
    },
    "kernelspec": {
      "name": "python3",
      "display_name": "Python 3"
    },
    "accelerator": "GPU"
  },
  "cells": [
    {
      "cell_type": "markdown",
      "metadata": {
        "id": "view-in-github",
        "colab_type": "text"
      },
      "source": [
        "<a href=\"https://colab.research.google.com/github/sharmer156/rnn_lyrics/blob/master/test/RNN01.ipynb\" target=\"_parent\"><img src=\"https://colab.research.google.com/assets/colab-badge.svg\" alt=\"Open In Colab\"/></a>"
      ]
    },
    {
      "cell_type": "code",
      "metadata": {
        "id": "neYZ1MiGLHGB",
        "colab_type": "code",
        "colab": {}
      },
      "source": [
        "import numpy as np\n",
        "import tensorflow as tf  #这里用的tf2\n",
        "import os"
      ],
      "execution_count": 2,
      "outputs": []
    },
    {
      "cell_type": "code",
      "metadata": {
        "id": "q6Da0_KHOAxJ",
        "colab_type": "code",
        "colab": {}
      },
      "source": [
        "read_file = 'j.txt'  #你的文件位置\n",
        "text = open(read_file, 'rb').read().decode(encoding='utf-8')\n",
        "\n",
        "#清理文本中的特殊符号\n",
        "def clean_text(text): \n",
        "  cleaned = text.strip().replace(' ','').replace('\\u3000','').replace('\\ufeff','').replace('(','').replace(')','')\n",
        "  cleaned = cleaned.replace('\\r', '')\n",
        "  cleaned = cleaned.replace('：', '')\n",
        "  return cleaned\n",
        "\n",
        "after_clean = clean_text(text)\n",
        "vocab = sorted(set(after_clean))  \n",
        "# 整个文本有33042 characters, \n",
        "#不同字符的个数（词典大小）vocab size 2422\n",
        "\n",
        "# char <-> idx\n",
        "char2idx = {u:i for i, u in enumerate(vocab)}\n",
        "idx2char = np.array(vocab)\n",
        "text_as_int = np.array([char2idx[c] for c in after_clean]) # shape(33042,)"
      ],
      "execution_count": 4,
      "outputs": []
    },
    {
      "cell_type": "code",
      "metadata": {
        "id": "Qwn35jJcOEgs",
        "colab_type": "code",
        "colab": {}
      },
      "source": [
        "seq_length = 20  # max input length 20\n",
        "examples_per_epoch = len(after_clean)//seq_length   # 33042//20; 1652个句子, 如果改进的话， 分句再padd会更好\n",
        "char_dataset = tf.data.Dataset.from_tensor_slices(text_as_int)\n",
        "sequences = char_dataset.batch(seq_length+1, drop_remainder=True)"
      ],
      "execution_count": 5,
      "outputs": []
    },
    {
      "cell_type": "code",
      "metadata": {
        "id": "xZWa57_dOJek",
        "colab_type": "code",
        "colab": {}
      },
      "source": [
        "def split_input_target(chunk):       # t时刻 挪到t+1\n",
        "  input_text = chunk[:-1]\n",
        "  target_text = chunk[1:]\n",
        "  return input_text, target_text\n",
        "\n",
        "dataset = sequences.map(split_input_target)"
      ],
      "execution_count": 6,
      "outputs": []
    },
    {
      "cell_type": "code",
      "metadata": {
        "id": "XMpq4Fq2OM-1",
        "colab_type": "code",
        "colab": {
          "base_uri": "https://localhost:8080/",
          "height": 52
        },
        "outputId": "140be2e7-5db9-41ab-99d1-7a24297c1af2"
      },
      "source": [
        "for input_example, target_example in  dataset.take(1):\n",
        "  print ('Input data: ', repr(''.join(idx2char[input_example.numpy()])))\n",
        "  print ('Target data:', repr(''.join(idx2char[target_example.numpy()])))"
      ],
      "execution_count": 7,
      "outputs": [
        {
          "output_type": "stream",
          "text": [
            "Input data:  '想要有直升机\\n想要和你飞到宇宙去\\n想要和'\n",
            "Target data: '要有直升机\\n想要和你飞到宇宙去\\n想要和你'\n"
          ],
          "name": "stdout"
        }
      ]
    },
    {
      "cell_type": "code",
      "metadata": {
        "id": "dTtKgmCxOSdM",
        "colab_type": "code",
        "colab": {
          "base_uri": "https://localhost:8080/",
          "height": 35
        },
        "outputId": "2bf3d2bb-bfc7-438d-98b7-a1f9fa6d3885"
      },
      "source": [
        "BATCH_SIZE = 64       #  1652//64; 每个epoch 训练25次\n",
        "BUFFER_SIZE = 2000\n",
        "dataset = dataset.shuffle(BUFFER_SIZE).batch(BATCH_SIZE, drop_remainder=True)\n",
        "vocab_size = len(vocab)    # embedding 参数\n",
        "embedding_dim = 300\n",
        "rnn_units = 1024\n",
        "dataset"
      ],
      "execution_count": 8,
      "outputs": [
        {
          "output_type": "execute_result",
          "data": {
            "text/plain": [
              "<BatchDataset shapes: ((64, 20), (64, 20)), types: (tf.int64, tf.int64)>"
            ]
          },
          "metadata": {
            "tags": []
          },
          "execution_count": 8
        }
      ]
    },
    {
      "cell_type": "code",
      "metadata": {
        "id": "N0AOBWtlOWWs",
        "colab_type": "code",
        "colab": {
          "base_uri": "https://localhost:8080/",
          "height": 260
        },
        "outputId": "dd27977a-70d4-4869-f85d-2a51a7025cd4"
      },
      "source": [
        "def build_model(vocab_size, embedding_dim, rnn_units, batch_size):\n",
        "  model = tf.keras.Sequential([\n",
        "    tf.keras.layers.Embedding(vocab_size, embedding_dim, batch_input_shape=[batch_size, None]),\n",
        "    tf.keras.layers.GRU(rnn_units, return_sequences=True, stateful=True, recurrent_initializer='glorot_uniform'),\n",
        "    tf.keras.layers.Dense(vocab_size)\n",
        "  ])\n",
        "  return model\n",
        "\n",
        "model = build_model(\n",
        "  vocab_size = len(vocab),\n",
        "  embedding_dim=embedding_dim,\n",
        "  rnn_units=rnn_units,\n",
        "  batch_size=BATCH_SIZE)\n",
        "\n",
        "model.summary()"
      ],
      "execution_count": 9,
      "outputs": [
        {
          "output_type": "stream",
          "text": [
            "Model: \"sequential\"\n",
            "_________________________________________________________________\n",
            "Layer (type)                 Output Shape              Param #   \n",
            "=================================================================\n",
            "embedding (Embedding)        (64, None, 300)           774300    \n",
            "_________________________________________________________________\n",
            "gru (GRU)                    (64, None, 1024)          4073472   \n",
            "_________________________________________________________________\n",
            "dense (Dense)                (64, None, 2581)          2645525   \n",
            "=================================================================\n",
            "Total params: 7,493,297\n",
            "Trainable params: 7,493,297\n",
            "Non-trainable params: 0\n",
            "_________________________________________________________________\n"
          ],
          "name": "stdout"
        }
      ]
    },
    {
      "cell_type": "code",
      "metadata": {
        "id": "zRQmNGgBOajt",
        "colab_type": "code",
        "colab": {
          "base_uri": "https://localhost:8080/",
          "height": 69
        },
        "outputId": "8653a6b8-7487-4935-e93a-6d5f2c620aeb"
      },
      "source": [
        "def loss(labels, logits):\n",
        "  return tf.keras.losses.sparse_categorical_crossentropy(labels, logits, from_logits=True)\n",
        "\n",
        "model.compile(optimizer='adam', loss=loss)\n",
        "\n",
        "# 取一个训练数据查看一下\n",
        "for input_example_batch, target_example_batch in dataset.take(1):\n",
        "  example_batch_predictions = model(input_example_batch)\n",
        "  print(example_batch_predictions.shape, \"# (batch_size, sequence_length, vocab_size)\")\n",
        "\n",
        "sampled_indices = tf.random.categorical(example_batch_predictions[0], num_samples=1)\n",
        "sampled_indices = tf.squeeze(sampled_indices,axis=-1).numpy()\n",
        "example_batch_loss  = loss(target_example_batch, example_batch_predictions)\n",
        "print(\"Prediction shape: \", example_batch_predictions.shape, \" # (batch_size, sequence_length, vocab_size)\")\n",
        "print(\"scalar_loss: \", example_batch_loss.numpy().mean())"
      ],
      "execution_count": 10,
      "outputs": [
        {
          "output_type": "stream",
          "text": [
            "(64, 20, 2581) # (batch_size, sequence_length, vocab_size)\n",
            "Prediction shape:  (64, 20, 2581)  # (batch_size, sequence_length, vocab_size)\n",
            "scalar_loss:  7.8555055\n"
          ],
          "name": "stdout"
        }
      ]
    },
    {
      "cell_type": "code",
      "metadata": {
        "id": "c9b7Xfi6OiJN",
        "colab_type": "code",
        "colab": {}
      },
      "source": [
        "# 检查点保存至的目录\n",
        "checkpoint_dir = 'training_checkpoints'\n",
        "# 检查点的文件名\n",
        "checkpoint_prefix = os.path.join(checkpoint_dir, \"ckpt_{epoch}\")\n",
        "\n",
        "checkpoint_callback=tf.keras.callbacks.ModelCheckpoint(\n",
        "    filepath=checkpoint_prefix,\n",
        "    save_weights_only=True)"
      ],
      "execution_count": 11,
      "outputs": []
    },
    {
      "cell_type": "code",
      "metadata": {
        "id": "TMxn9EWFOnFt",
        "colab_type": "code",
        "colab": {
          "base_uri": "https://localhost:8080/",
          "height": 1000
        },
        "outputId": "2e68cfaa-1f84-4541-a8de-9323dd7de1b6"
      },
      "source": [
        "EPOCHS=50\n",
        "history = model.fit(dataset, epochs=EPOCHS, callbacks=[checkpoint_callback])"
      ],
      "execution_count": 13,
      "outputs": [
        {
          "output_type": "stream",
          "text": [
            "Epoch 1/50\n",
            "44/44 [==============================] - 1s 23ms/step - loss: 0.5284\n",
            "Epoch 2/50\n",
            "44/44 [==============================] - 2s 53ms/step - loss: 0.4975\n",
            "Epoch 3/50\n",
            "44/44 [==============================] - 1s 24ms/step - loss: 0.4699\n",
            "Epoch 4/50\n",
            "44/44 [==============================] - 1s 25ms/step - loss: 0.4488\n",
            "Epoch 5/50\n",
            "44/44 [==============================] - 1s 24ms/step - loss: 0.4269\n",
            "Epoch 6/50\n",
            "44/44 [==============================] - 2s 53ms/step - loss: 0.4140\n",
            "Epoch 7/50\n",
            "44/44 [==============================] - 1s 24ms/step - loss: 0.3979\n",
            "Epoch 8/50\n",
            "44/44 [==============================] - 2s 53ms/step - loss: 0.3843\n",
            "Epoch 9/50\n",
            "44/44 [==============================] - 1s 24ms/step - loss: 0.3774\n",
            "Epoch 10/50\n",
            "44/44 [==============================] - 2s 53ms/step - loss: 0.3721\n",
            "Epoch 11/50\n",
            "44/44 [==============================] - 1s 23ms/step - loss: 0.3587\n",
            "Epoch 12/50\n",
            "44/44 [==============================] - 2s 53ms/step - loss: 0.3495\n",
            "Epoch 13/50\n",
            "44/44 [==============================] - 1s 24ms/step - loss: 0.3432\n",
            "Epoch 14/50\n",
            "44/44 [==============================] - 2s 53ms/step - loss: 0.3363\n",
            "Epoch 15/50\n",
            "44/44 [==============================] - 1s 23ms/step - loss: 0.3269\n",
            "Epoch 16/50\n",
            "44/44 [==============================] - 2s 53ms/step - loss: 0.3259\n",
            "Epoch 17/50\n",
            "44/44 [==============================] - 1s 23ms/step - loss: 0.3201\n",
            "Epoch 18/50\n",
            "44/44 [==============================] - 1s 23ms/step - loss: 0.3123\n",
            "Epoch 19/50\n",
            "44/44 [==============================] - 2s 53ms/step - loss: 0.3088\n",
            "Epoch 20/50\n",
            "44/44 [==============================] - 1s 23ms/step - loss: 0.3079\n",
            "Epoch 21/50\n",
            "44/44 [==============================] - 2s 53ms/step - loss: 0.3032\n",
            "Epoch 22/50\n",
            "44/44 [==============================] - 1s 23ms/step - loss: 0.2950\n",
            "Epoch 23/50\n",
            "44/44 [==============================] - 1s 24ms/step - loss: 0.2925\n",
            "Epoch 24/50\n",
            "44/44 [==============================] - 1s 23ms/step - loss: 0.2909\n",
            "Epoch 25/50\n",
            "44/44 [==============================] - 1s 24ms/step - loss: 0.2916\n",
            "Epoch 26/50\n",
            "44/44 [==============================] - 1s 23ms/step - loss: 0.2873\n",
            "Epoch 27/50\n",
            "44/44 [==============================] - 1s 23ms/step - loss: 0.2826\n",
            "Epoch 28/50\n",
            "44/44 [==============================] - 1s 24ms/step - loss: 0.2786\n",
            "Epoch 29/50\n",
            "44/44 [==============================] - 1s 23ms/step - loss: 0.2752\n",
            "Epoch 30/50\n",
            "44/44 [==============================] - 1s 24ms/step - loss: 0.2763\n",
            "Epoch 31/50\n",
            "44/44 [==============================] - 1s 25ms/step - loss: 0.2736\n",
            "Epoch 32/50\n",
            "44/44 [==============================] - 1s 23ms/step - loss: 0.2739\n",
            "Epoch 33/50\n",
            "44/44 [==============================] - 1s 24ms/step - loss: 0.2713\n",
            "Epoch 34/50\n",
            "44/44 [==============================] - 1s 24ms/step - loss: 0.2695\n",
            "Epoch 35/50\n",
            "44/44 [==============================] - 1s 25ms/step - loss: 0.2662\n",
            "Epoch 36/50\n",
            "44/44 [==============================] - 1s 26ms/step - loss: 0.2654\n",
            "Epoch 37/50\n",
            "44/44 [==============================] - 6s 128ms/step - loss: 0.2658\n",
            "Epoch 38/50\n",
            "44/44 [==============================] - 1s 24ms/step - loss: 0.2648\n",
            "Epoch 39/50\n",
            "44/44 [==============================] - 2s 36ms/step - loss: 0.2643\n",
            "Epoch 40/50\n",
            "44/44 [==============================] - 4s 85ms/step - loss: 0.2580\n",
            "Epoch 41/50\n",
            "44/44 [==============================] - 1s 23ms/step - loss: 0.2584\n",
            "Epoch 42/50\n",
            "44/44 [==============================] - 1s 25ms/step - loss: 0.2610\n",
            "Epoch 43/50\n",
            "44/44 [==============================] - 1s 25ms/step - loss: 0.2588\n",
            "Epoch 44/50\n",
            "44/44 [==============================] - 1s 30ms/step - loss: 0.2560\n",
            "Epoch 45/50\n",
            "44/44 [==============================] - 6s 140ms/step - loss: 0.2580\n",
            "Epoch 46/50\n",
            "44/44 [==============================] - 1s 31ms/step - loss: 0.2563\n",
            "Epoch 47/50\n",
            "44/44 [==============================] - 2s 45ms/step - loss: 0.2533\n",
            "Epoch 48/50\n",
            "44/44 [==============================] - 1s 24ms/step - loss: 0.2537\n",
            "Epoch 49/50\n",
            "44/44 [==============================] - 1s 24ms/step - loss: 0.2482\n",
            "Epoch 50/50\n",
            "44/44 [==============================] - 5s 116ms/step - loss: 0.2481\n"
          ],
          "name": "stdout"
        }
      ]
    },
    {
      "cell_type": "code",
      "metadata": {
        "id": "KFtg8PbLQOX-",
        "colab_type": "code",
        "colab": {}
      },
      "source": [
        "# load weight to model for predict, reshape batch to 1\n",
        "weight = tf.train.latest_checkpoint(checkpoint_dir)\n",
        "model = build_model(vocab_size, embedding_dim, rnn_units, batch_size=1)\n",
        "model.load_weights(weight)\n",
        "model.build(tf.TensorShape([1, None]))"
      ],
      "execution_count": 14,
      "outputs": []
    },
    {
      "cell_type": "code",
      "metadata": {
        "id": "AHOZH8bnQRze",
        "colab_type": "code",
        "colab": {}
      },
      "source": [
        "def generate_text(model, start_string):\n",
        "  \n",
        "  # 要生成的字符个数\n",
        "  num_generate = 19\n",
        "  \n",
        "  input_eval = [char2idx[s] for s in start_string]\n",
        "  input_eval = tf.expand_dims(input_eval, 0)\n",
        "\n",
        "  # 创建存储结果的空列表\n",
        "  text_generated = []\n",
        "\n",
        "  temperature = 1\n",
        "  model.reset_states()\n",
        "  for i in range(num_generate):\n",
        "    predictions = model(input_eval)\n",
        "    predictions = tf.squeeze(predictions, 0)  # delete 1dim \n",
        "\n",
        "    predictions = predictions / temperature\n",
        "    predicted_id = tf.random.categorical(predictions, num_samples=1)[-1,0].numpy()\n",
        "\n",
        "    # 把预测字符和前面的隐藏状态一起传递给模型作为下一个输入\n",
        "    input_eval = tf.expand_dims([predicted_id], 0)\n",
        "    text_generated.append(idx2char[predicted_id])\n",
        "\n",
        "  return (start_string + ''.join(text_generated))"
      ],
      "execution_count": 15,
      "outputs": []
    },
    {
      "cell_type": "code",
      "metadata": {
        "id": "3lbdXNa3Qy0R",
        "colab_type": "code",
        "colab": {}
      },
      "source": [
        "def generate_text(model, start_string):\n",
        "  \n",
        "  # 要生成的字符个数\n",
        "  num_generate = 19\n",
        "  \n",
        "  input_eval = [char2idx[s] for s in start_string]\n",
        "  input_eval = tf.expand_dims(input_eval, 0)\n",
        "\n",
        "  # 创建存储结果的空列表\n",
        "  text_generated = []\n",
        "\n",
        "  temperature = 1\n",
        "  model.reset_states()\n",
        "  for i in range(num_generate):\n",
        "    predictions = model(input_eval)\n",
        "    predictions = tf.squeeze(predictions, 0)  # delete 1dim \n",
        "\n",
        "    predictions = predictions / temperature\n",
        "    predicted_id = tf.random.categorical(predictions, num_samples=1)[-1,0].numpy()\n",
        "\n",
        "    # 把预测字符和前面的隐藏状态一起传递给模型作为下一个输入\n",
        "    input_eval = tf.expand_dims([predicted_id], 0)\n",
        "    text_generated.append(idx2char[predicted_id])\n",
        "\n",
        "  return (start_string + ''.join(text_generated))"
      ],
      "execution_count": 17,
      "outputs": []
    },
    {
      "cell_type": "code",
      "metadata": {
        "id": "7Iy1WWGOQ2dt",
        "colab_type": "code",
        "colab": {
          "base_uri": "https://localhost:8080/",
          "height": 69
        },
        "outputId": "b13e7292-99f2-4197-fe8d-0c32eb38a4ff"
      },
      "source": [
        "print(generate_text(model, start_string=u'烟雨'))"
      ],
      "execution_count": 18,
      "outputs": [
        {
          "output_type": "stream",
          "text": [
            "烟雨之间崩坏了最后放弃抵抗\n",
            "我仰望着夕阳\n",
            "\n"
          ],
          "name": "stdout"
        }
      ]
    },
    {
      "cell_type": "code",
      "metadata": {
        "id": "EOCgYMupQVC9",
        "colab_type": "code",
        "colab": {
          "base_uri": "https://localhost:8080/",
          "height": 69
        },
        "outputId": "0e4a831b-9ffa-4f2a-c582-c5e8625c7851"
      },
      "source": [
        "print(generate_text(model, start_string=u'灯光'))"
      ],
      "execution_count": 16,
      "outputs": [
        {
          "output_type": "stream",
          "text": [
            "灯光机\n",
            "我告诉你们八卦是会过去的\n",
            "新闻是一\n"
          ],
          "name": "stdout"
        }
      ]
    },
    {
      "cell_type": "code",
      "metadata": {
        "id": "7YWoiUKqRAuQ",
        "colab_type": "code",
        "colab": {}
      },
      "source": [
        "def generate_text(model, start_string):\n",
        "  \n",
        "  # 要生成的字符个数\n",
        "  num_generate = 100\n",
        "  \n",
        "  input_eval = [char2idx[s] for s in start_string]\n",
        "  input_eval = tf.expand_dims(input_eval, 0)\n",
        "\n",
        "  # 创建存储结果的空列表\n",
        "  text_generated = []\n",
        "\n",
        "  temperature = 1\n",
        "  model.reset_states()\n",
        "  for i in range(num_generate):\n",
        "    predictions = model(input_eval)\n",
        "    predictions = tf.squeeze(predictions, 0)  # delete 1dim \n",
        "\n",
        "    predictions = predictions / temperature\n",
        "    predicted_id = tf.random.categorical(predictions, num_samples=1)[-1,0].numpy()\n",
        "\n",
        "    # 把预测字符和前面的隐藏状态一起传递给模型作为下一个输入\n",
        "    input_eval = tf.expand_dims([predicted_id], 0)\n",
        "    text_generated.append(idx2char[predicted_id])\n",
        "\n",
        "  return (start_string + ''.join(text_generated))"
      ],
      "execution_count": 21,
      "outputs": []
    },
    {
      "cell_type": "code",
      "metadata": {
        "id": "0CNT9c50RFqV",
        "colab_type": "code",
        "colab": {
          "base_uri": "https://localhost:8080/",
          "height": 156
        },
        "outputId": "bfb323fc-aff6-4de3-b5fd-0f4552ca48b6"
      },
      "source": [
        "print(generate_text(model, start_string=u'烟雨'))"
      ],
      "execution_count": 22,
      "outputs": [
        {
          "output_type": "stream",
          "text": [
            "烟雨纷纷雨袅aYaHei\n",
            "哦跑到哪儿去啦\n",
            "面店旁的小水沟留着我的天气冷的让人生闷气\n",
            "火气我沮丧的悲哀\n",
            "只為永恒的乐曲存在醒过来\n",
            "鐘逆时鐘而过滤了你和我沦落面成美\n",
            "沉在盒子里的世界才能完美\n",
            "他们猜随便猜不重\n"
          ],
          "name": "stdout"
        }
      ]
    }
  ]
}