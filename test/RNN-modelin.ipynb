{
  "nbformat": 4,
  "nbformat_minor": 0,
  "metadata": {
    "colab": {
      "name": "Untitled15.ipynb",
      "provenance": [],
      "mount_file_id": "https://github.com/sharmer156/rnn_lyrics/blob/master/test/RNN01.ipynb",
      "authorship_tag": "ABX9TyOluzFlOG8c4TuRqANyV7wT",
      "include_colab_link": true
    },
    "kernelspec": {
      "name": "python3",
      "display_name": "Python 3"
    }
  },
  "cells": [
    {
      "cell_type": "markdown",
      "metadata": {
        "id": "view-in-github",
        "colab_type": "text"
      },
      "source": [
        "<a href=\"https://colab.research.google.com/github/sharmer156/rnn_lyrics/blob/master/test/RNN-modelin.ipynb\" target=\"_parent\"><img src=\"https://colab.research.google.com/assets/colab-badge.svg\" alt=\"Open In Colab\"/></a>"
      ]
    },
    {
      "cell_type": "code",
      "metadata": {
        "id": "neYZ1MiGLHGB"
      },
      "source": [
        "import numpy as np\n",
        "import tensorflow as tf  #这里用的tf2\n",
        "import os"
      ],
      "execution_count": 8,
      "outputs": []
    },
    {
      "cell_type": "code",
      "metadata": {
        "id": "q6Da0_KHOAxJ"
      },
      "source": [
        "read_file = '/content/drive/MyDrive/date-rnn/j.txt'  #你的文件位置\n",
        "text = open(read_file, 'rb').read().decode(encoding='utf-8')\n",
        "\n",
        "#清理文本中的特殊符号\n",
        "def clean_text(text): \n",
        "  cleaned = text.strip().replace(' ','').replace('\\u3000','').replace('\\ufeff','').replace('(','').replace(')','')\n",
        "  cleaned = cleaned.replace('\\r', '')\n",
        "  cleaned = cleaned.replace('：', '')\n",
        "  return cleaned\n",
        "\n",
        "after_clean = clean_text(text)\n",
        "vocab = sorted(set(after_clean))  \n",
        "# 整个文本有33042 characters, \n",
        "#不同字符的个数（词典大小）vocab size 2422\n",
        "\n",
        "# char <-> idx\n",
        "char2idx = {u:i for i, u in enumerate(vocab)}\n",
        "idx2char = np.array(vocab)\n",
        "text_as_int = np.array([char2idx[c] for c in after_clean]) # shape(33042,)"
      ],
      "execution_count": 9,
      "outputs": []
    },
    {
      "cell_type": "code",
      "metadata": {
        "id": "Qwn35jJcOEgs"
      },
      "source": [
        "seq_length = 20  # max input length 20\n",
        "examples_per_epoch = len(after_clean)//seq_length   # 33042//20; 1652个句子, 如果改进的话， 分句再padd会更好\n",
        "char_dataset = tf.data.Dataset.from_tensor_slices(text_as_int)\n",
        "sequences = char_dataset.batch(seq_length+1, drop_remainder=True)"
      ],
      "execution_count": 11,
      "outputs": []
    },
    {
      "cell_type": "code",
      "metadata": {
        "id": "xZWa57_dOJek"
      },
      "source": [
        "def split_input_target(chunk):       # t时刻 挪到t+1\n",
        "  input_text = chunk[:-1]\n",
        "  target_text = chunk[1:]\n",
        "  return input_text, target_text\n",
        "\n",
        "dataset = sequences.map(split_input_target)"
      ],
      "execution_count": 12,
      "outputs": []
    },
    {
      "cell_type": "code",
      "metadata": {
        "id": "XMpq4Fq2OM-1",
        "colab": {
          "base_uri": "https://localhost:8080/"
        },
        "outputId": "98cbc528-5736-4545-d979-6c7dda07c8e9"
      },
      "source": [
        "for input_example, target_example in  dataset.take(1):\n",
        "  print ('Input data: ', repr(''.join(idx2char[input_example.numpy()])))\n",
        "  print ('Target data:', repr(''.join(idx2char[target_example.numpy()])))"
      ],
      "execution_count": 13,
      "outputs": [
        {
          "output_type": "stream",
          "text": [
            "Input data:  '想要有直升机\\n想要和你飞到宇宙去\\n想要和'\n",
            "Target data: '要有直升机\\n想要和你飞到宇宙去\\n想要和你'\n"
          ],
          "name": "stdout"
        }
      ]
    },
    {
      "cell_type": "code",
      "metadata": {
        "id": "dTtKgmCxOSdM",
        "colab": {
          "base_uri": "https://localhost:8080/"
        },
        "outputId": "04f7099b-fca5-4b42-a8d4-edafcb5e285b"
      },
      "source": [
        "BATCH_SIZE = 64       #  1652//64; 每个epoch 训练25次\n",
        "BUFFER_SIZE = 2000\n",
        "dataset = dataset.shuffle(BUFFER_SIZE).batch(BATCH_SIZE, drop_remainder=True)\n",
        "vocab_size = len(vocab)    # embedding 参数\n",
        "embedding_dim = 300\n",
        "rnn_units = 1024\n",
        "dataset"
      ],
      "execution_count": 14,
      "outputs": [
        {
          "output_type": "execute_result",
          "data": {
            "text/plain": [
              "<BatchDataset shapes: ((64, 20), (64, 20)), types: (tf.int64, tf.int64)>"
            ]
          },
          "metadata": {
            "tags": []
          },
          "execution_count": 14
        }
      ]
    },
    {
      "cell_type": "code",
      "metadata": {
        "id": "N0AOBWtlOWWs",
        "colab": {
          "base_uri": "https://localhost:8080/"
        },
        "outputId": "ac6adf60-626d-4ea8-9dcb-55b06155779f"
      },
      "source": [
        "def build_model(vocab_size, embedding_dim, rnn_units, batch_size):\n",
        "  model = tf.keras.Sequential([\n",
        "    tf.keras.layers.Embedding(vocab_size, embedding_dim, batch_input_shape=[batch_size, None]),\n",
        "    tf.keras.layers.GRU(rnn_units, return_sequences=True, stateful=True, recurrent_initializer='glorot_uniform'),\n",
        "    tf.keras.layers.Dense(vocab_size)\n",
        "  ])\n",
        "  return model\n",
        "\n",
        "model = build_model(\n",
        "  vocab_size = len(vocab),\n",
        "  embedding_dim=embedding_dim,\n",
        "  rnn_units=rnn_units,\n",
        "  batch_size=BATCH_SIZE)\n",
        "\n",
        "model.summary()"
      ],
      "execution_count": 15,
      "outputs": [
        {
          "output_type": "stream",
          "text": [
            "Model: \"sequential\"\n",
            "_________________________________________________________________\n",
            "Layer (type)                 Output Shape              Param #   \n",
            "=================================================================\n",
            "embedding (Embedding)        (64, None, 300)           774300    \n",
            "_________________________________________________________________\n",
            "gru (GRU)                    (64, None, 1024)          4073472   \n",
            "_________________________________________________________________\n",
            "dense (Dense)                (64, None, 2581)          2645525   \n",
            "=================================================================\n",
            "Total params: 7,493,297\n",
            "Trainable params: 7,493,297\n",
            "Non-trainable params: 0\n",
            "_________________________________________________________________\n"
          ],
          "name": "stdout"
        }
      ]
    },
    {
      "cell_type": "code",
      "metadata": {
        "id": "zRQmNGgBOajt",
        "colab": {
          "base_uri": "https://localhost:8080/"
        },
        "outputId": "45f2486b-6fe9-443d-b938-2050e44d6c1d"
      },
      "source": [
        "def loss(labels, logits):\n",
        "  return tf.keras.losses.sparse_categorical_crossentropy(labels, logits, from_logits=True)\n",
        "\n",
        "model.compile(optimizer='adam', loss=loss)\n",
        "\n",
        "# 取一个训练数据查看一下\n",
        "for input_example_batch, target_example_batch in dataset.take(1):\n",
        "  example_batch_predictions = model(input_example_batch)\n",
        "  print(example_batch_predictions.shape, \"# (batch_size, sequence_length, vocab_size)\")\n",
        "\n",
        "sampled_indices = tf.random.categorical(example_batch_predictions[0], num_samples=1)\n",
        "sampled_indices = tf.squeeze(sampled_indices,axis=-1).numpy()\n",
        "example_batch_loss  = loss(target_example_batch, example_batch_predictions)\n",
        "print(\"Prediction shape: \", example_batch_predictions.shape, \" # (batch_size, sequence_length, vocab_size)\")\n",
        "print(\"scalar_loss: \", example_batch_loss.numpy().mean())"
      ],
      "execution_count": 16,
      "outputs": [
        {
          "output_type": "stream",
          "text": [
            "(64, 20, 2581) # (batch_size, sequence_length, vocab_size)\n",
            "Prediction shape:  (64, 20, 2581)  # (batch_size, sequence_length, vocab_size)\n",
            "scalar_loss:  7.85585\n"
          ],
          "name": "stdout"
        }
      ]
    },
    {
      "cell_type": "code",
      "metadata": {
        "id": "c9b7Xfi6OiJN"
      },
      "source": [
        "# 检查点保存至的目录\n",
        "checkpoint_dir = 'training_checkpoints'\n",
        "# 检查点的文件名\n",
        "checkpoint_prefix = os.path.join(checkpoint_dir, \"ckpt_{epoch}\")\n",
        "\n",
        "checkpoint_callback=tf.keras.callbacks.ModelCheckpoint(\n",
        "    filepath=checkpoint_prefix,\n",
        "    save_weights_only=True)"
      ],
      "execution_count": 9,
      "outputs": []
    },
    {
      "cell_type": "code",
      "metadata": {
        "id": "u47_HVt9AG07"
      },
      "source": [
        ""
      ],
      "execution_count": null,
      "outputs": []
    },
    {
      "cell_type": "code",
      "metadata": {
        "id": "awIeV3tXAHMc"
      },
      "source": [
        "# 检查点保存至的目录\n",
        "checkpoint_dir = '/content/drive/MyDrive/AImodel/training_checkpoints'\n",
        "# 检查点的文件名\n",
        "checkpoint_prefix = os.path.join(checkpoint_dir, \"ckpt_{epoch}\")\n",
        "\n",
        "checkpoint_callback=tf.keras.callbacks.ModelCheckpoint(\n",
        "    filepath=checkpoint_prefix,\n",
        "    save_weights_only=True)"
      ],
      "execution_count": 17,
      "outputs": []
    },
    {
      "cell_type": "code",
      "metadata": {
        "id": "TMxn9EWFOnFt",
        "colab": {
          "base_uri": "https://localhost:8080/"
        },
        "outputId": "a11c385f-e697-4169-aed0-67244a34fa55"
      },
      "source": [
        "EPOCHS=50\n",
        "history = model.fit(dataset, epochs=EPOCHS, callbacks=[checkpoint_callback])"
      ],
      "execution_count": 10,
      "outputs": [
        {
          "output_type": "stream",
          "text": [
            "Epoch 1/50\n",
            "44/44 [==============================] - 3s 27ms/step - loss: 7.3640\n",
            "Epoch 2/50\n",
            "44/44 [==============================] - 1s 24ms/step - loss: 6.0681\n",
            "Epoch 3/50\n",
            "44/44 [==============================] - 1s 24ms/step - loss: 5.6382\n",
            "Epoch 4/50\n",
            "44/44 [==============================] - 1s 24ms/step - loss: 5.1888\n",
            "Epoch 5/50\n",
            "44/44 [==============================] - 1s 24ms/step - loss: 4.7202\n",
            "Epoch 6/50\n",
            "44/44 [==============================] - 1s 24ms/step - loss: 4.2179\n",
            "Epoch 7/50\n",
            "44/44 [==============================] - 1s 24ms/step - loss: 3.7448\n",
            "Epoch 8/50\n",
            "44/44 [==============================] - 1s 24ms/step - loss: 3.2687\n",
            "Epoch 9/50\n",
            "44/44 [==============================] - 1s 24ms/step - loss: 2.8266\n",
            "Epoch 10/50\n",
            "44/44 [==============================] - 1s 24ms/step - loss: 2.4469\n",
            "Epoch 11/50\n",
            "44/44 [==============================] - 1s 25ms/step - loss: 2.0284\n",
            "Epoch 12/50\n",
            "44/44 [==============================] - 1s 25ms/step - loss: 1.7186\n",
            "Epoch 13/50\n",
            "44/44 [==============================] - 1s 24ms/step - loss: 1.4441\n",
            "Epoch 14/50\n",
            "44/44 [==============================] - 1s 25ms/step - loss: 1.2197\n",
            "Epoch 15/50\n",
            "44/44 [==============================] - 1s 25ms/step - loss: 1.0187\n",
            "Epoch 16/50\n",
            "44/44 [==============================] - 1s 25ms/step - loss: 0.8700\n",
            "Epoch 17/50\n",
            "44/44 [==============================] - 1s 25ms/step - loss: 0.7641\n",
            "Epoch 18/50\n",
            "44/44 [==============================] - 1s 25ms/step - loss: 0.6805\n",
            "Epoch 19/50\n",
            "44/44 [==============================] - 1s 25ms/step - loss: 0.6065\n",
            "Epoch 20/50\n",
            "44/44 [==============================] - 1s 24ms/step - loss: 0.5551\n",
            "Epoch 21/50\n",
            "44/44 [==============================] - 1s 25ms/step - loss: 0.5110\n",
            "Epoch 22/50\n",
            "44/44 [==============================] - 1s 25ms/step - loss: 0.4820\n",
            "Epoch 23/50\n",
            "44/44 [==============================] - 1s 25ms/step - loss: 0.4567\n",
            "Epoch 24/50\n",
            "44/44 [==============================] - 1s 25ms/step - loss: 0.4371\n",
            "Epoch 25/50\n",
            "44/44 [==============================] - 1s 25ms/step - loss: 0.4123\n",
            "Epoch 26/50\n",
            "44/44 [==============================] - 1s 25ms/step - loss: 0.3965\n",
            "Epoch 27/50\n",
            "44/44 [==============================] - 1s 25ms/step - loss: 0.3856\n",
            "Epoch 28/50\n",
            "44/44 [==============================] - 1s 25ms/step - loss: 0.3713\n",
            "Epoch 29/50\n",
            "44/44 [==============================] - 1s 26ms/step - loss: 0.3630\n",
            "Epoch 30/50\n",
            "44/44 [==============================] - 1s 25ms/step - loss: 0.3593\n",
            "Epoch 31/50\n",
            "44/44 [==============================] - 1s 25ms/step - loss: 0.3478\n",
            "Epoch 32/50\n",
            "44/44 [==============================] - 1s 25ms/step - loss: 0.3420\n",
            "Epoch 33/50\n",
            "44/44 [==============================] - 1s 25ms/step - loss: 0.3351\n",
            "Epoch 34/50\n",
            "44/44 [==============================] - 1s 27ms/step - loss: 0.3238\n",
            "Epoch 35/50\n",
            "44/44 [==============================] - 1s 26ms/step - loss: 0.3181\n",
            "Epoch 36/50\n",
            "44/44 [==============================] - 1s 28ms/step - loss: 0.3143\n",
            "Epoch 37/50\n",
            "44/44 [==============================] - 1s 25ms/step - loss: 0.3046\n",
            "Epoch 38/50\n",
            "44/44 [==============================] - 1s 26ms/step - loss: 0.3067\n",
            "Epoch 39/50\n",
            "44/44 [==============================] - 1s 25ms/step - loss: 0.2985\n",
            "Epoch 40/50\n",
            "44/44 [==============================] - 1s 26ms/step - loss: 0.2922\n",
            "Epoch 41/50\n",
            "44/44 [==============================] - 1s 28ms/step - loss: 0.2875\n",
            "Epoch 42/50\n",
            "44/44 [==============================] - 1s 25ms/step - loss: 0.2852\n",
            "Epoch 43/50\n",
            "44/44 [==============================] - 1s 25ms/step - loss: 0.2851\n",
            "Epoch 44/50\n",
            "44/44 [==============================] - 1s 25ms/step - loss: 0.2808\n",
            "Epoch 45/50\n",
            "44/44 [==============================] - 1s 26ms/step - loss: 0.2710\n",
            "Epoch 46/50\n",
            "44/44 [==============================] - 1s 27ms/step - loss: 0.2790\n",
            "Epoch 47/50\n",
            "44/44 [==============================] - 1s 26ms/step - loss: 0.2748\n",
            "Epoch 48/50\n",
            "44/44 [==============================] - 1s 26ms/step - loss: 0.2773\n",
            "Epoch 49/50\n",
            "44/44 [==============================] - 1s 26ms/step - loss: 0.2695\n",
            "Epoch 50/50\n",
            "44/44 [==============================] - 1s 26ms/step - loss: 0.2636\n"
          ],
          "name": "stdout"
        }
      ]
    },
    {
      "cell_type": "code",
      "metadata": {
        "id": "KFtg8PbLQOX-"
      },
      "source": [
        "# load weight to model for predict, reshape batch to 1\n",
        "weight = tf.train.latest_checkpoint(checkpoint_dir)\n",
        "model = build_model(vocab_size, embedding_dim, rnn_units, batch_size=1)\n",
        "model.load_weights(weight)\n",
        "model.build(tf.TensorShape([1, None]))"
      ],
      "execution_count": 18,
      "outputs": []
    },
    {
      "cell_type": "code",
      "metadata": {
        "id": "AHOZH8bnQRze"
      },
      "source": [
        "def generate_text(model, start_string):\n",
        "  \n",
        "  # 要生成的字符个数\n",
        "  num_generate = 290\n",
        "  \n",
        "  input_eval = [char2idx[s] for s in start_string]\n",
        "  input_eval = tf.expand_dims(input_eval, 0)\n",
        "\n",
        "  # 创建存储结果的空列表\n",
        "  text_generated = []\n",
        "\n",
        "  temperature = 1\n",
        "  model.reset_states()\n",
        "  for i in range(num_generate):\n",
        "    predictions = model(input_eval)\n",
        "    predictions = tf.squeeze(predictions, 0)  # delete 1dim \n",
        "\n",
        "    predictions = predictions / temperature\n",
        "    predicted_id = tf.random.categorical(predictions, num_samples=1)[-1,0].numpy()\n",
        "\n",
        "    # 把预测字符和前面的隐藏状态一起传递给模型作为下一个输入\n",
        "    input_eval = tf.expand_dims([predicted_id], 0)\n",
        "    text_generated.append(idx2char[predicted_id])\n",
        "\n",
        "  return (start_string + ''.join(text_generated))"
      ],
      "execution_count": 19,
      "outputs": []
    },
    {
      "cell_type": "code",
      "metadata": {
        "id": "3lbdXNa3Qy0R"
      },
      "source": [
        "def generate_text(model, start_string):\n",
        "  \n",
        "  # 要生成的字符个数\n",
        "  num_generate = 19\n",
        "  \n",
        "  input_eval = [char2idx[s] for s in start_string]\n",
        "  input_eval = tf.expand_dims(input_eval, 0)\n",
        "\n",
        "  # 创建存储结果的空列表\n",
        "  text_generated = []\n",
        "\n",
        "  temperature = 1\n",
        "  model.reset_states()\n",
        "  for i in range(num_generate):\n",
        "    predictions = model(input_eval)\n",
        "    predictions = tf.squeeze(predictions, 0)  # delete 1dim \n",
        "\n",
        "    predictions = predictions / temperature\n",
        "    predicted_id = tf.random.categorical(predictions, num_samples=1)[-1,0].numpy()\n",
        "\n",
        "    # 把预测字符和前面的隐藏状态一起传递给模型作为下一个输入\n",
        "    input_eval = tf.expand_dims([predicted_id], 0)\n",
        "    text_generated.append(idx2char[predicted_id])\n",
        "\n",
        "  return (start_string + ''.join(text_generated))"
      ],
      "execution_count": null,
      "outputs": []
    },
    {
      "cell_type": "code",
      "metadata": {
        "id": "7Iy1WWGOQ2dt",
        "colab": {
          "base_uri": "https://localhost:8080/"
        },
        "outputId": "be8fe58f-18ff-4c0b-9f97-7c14df0c8431"
      },
      "source": [
        "print(generate_text(model, start_string=u'远方'))"
      ],
      "execution_count": 20,
      "outputs": [
        {
          "output_type": "stream",
          "text": [
            "远方我有爱才能够明白\n",
            "走在淡水河衅\n",
            "听着她的最爱\n",
            "把温暖放回口袋\n",
            "外婆她的无奈\n",
            "无法变成期待\n",
            "只有爱才能够明白\n",
            "走在淡水河衅\n",
            "听着她的最爱\n",
            "把温暖放回口袋\n",
            "外婆她的无奈远不用别人比较\n",
            "只喝过冰过的饮料很少笑吃全麦的面包\n",
            "是因为我太爱你你要我说多\n",
            "难怪大人们说我吃你豆腐\n",
            "千山万水无数黑夜等一轮明的让我感动的可爱女人\n",
            "坏坏的让我疯狂的可能雨也不会停\n",
            "黑色毛衣\n",
            "藏在那里\n",
            "就让回忆永远停在那里\n",
            "看着远方别当路儿啦\n",
            "啦儿啦啦儿啦啦儿啦儿啦\n",
            "铜镜映无邪紮马尾\n",
            "你若撒野今生我把酒奉陪\n",
            "啦儿啦啦啦啦啦啦\n",
            "天空是蒙蒙蒙的雾写完全失去之前\n",
            "你说把爱渐渐\n",
            "放下会走更远\n",
            "又何必去改变\n",
            "已走过的时间\n",
            "你\n"
          ],
          "name": "stdout"
        }
      ]
    },
    {
      "cell_type": "code",
      "metadata": {
        "id": "EOCgYMupQVC9",
        "colab": {
          "base_uri": "https://localhost:8080/"
        },
        "outputId": "2d571720-0e82-4b71-ef69-d7377676eeca"
      },
      "source": [
        "print(generate_text(model, start_string=u'速度'))"
      ],
      "execution_count": 21,
      "outputs": [
        {
          "output_type": "stream",
          "text": [
            "速度地悔落\n",
            "是谁流下不让同情发现\n",
            "我对天空这个那个流星\n",
            "大声唱\n",
            "吵杂的情不再回\n",
            "那些爱过的感觉都太深刻我都还记得\n",
            "你不等了说好的幸福呢\n",
            "我错了泪干了放手了后悔了\n",
            "只是回忆的音乐盒还旋转着要怎么停呢\n",
            "你的回想起你陪伴\n",
            "而不是六百块\n",
            "比你给的还简单\n",
            "外婆她的无奈\n",
            "无法变成期待\n",
            "只有爱才能够明白\n",
            "走在淡水河衅\n",
            "听着她的最爱\n",
            "把温暖放回口袋\n",
            "外婆她的期待\n",
            "慢慢变成无奈\n",
            "大人们始终不明白\n",
            "我站在滿心期待\n",
            "读完成回不来\n",
            "不要你离开回忆划不开\n",
            "欠你的宠爱\n",
            "还要听\n",
            "那些爱过的时候你陪我\n",
            "我不是孤獨的小丑你笑了之后不需要記得我。\n",
            "燈熄的時候滿天的星空最明亮的是寂寞\n",
            "对这些太威胁太强烈\n",
            "从来不喊累\n"
          ],
          "name": "stdout"
        }
      ]
    },
    {
      "cell_type": "code",
      "metadata": {
        "id": "7YWoiUKqRAuQ"
      },
      "source": [
        "def generate_text(model, start_string):\n",
        "  \n",
        "  # 要生成的字符个数\n",
        "  num_generate = 100\n",
        "  \n",
        "  input_eval = [char2idx[s] for s in start_string]\n",
        "  input_eval = tf.expand_dims(input_eval, 0)\n",
        "\n",
        "  # 创建存储结果的空列表\n",
        "  text_generated = []\n",
        "\n",
        "  temperature = 1\n",
        "  model.reset_states()\n",
        "  for i in range(num_generate):\n",
        "    predictions = model(input_eval)\n",
        "    predictions = tf.squeeze(predictions, 0)  # delete 1dim \n",
        "\n",
        "    predictions = predictions / temperature\n",
        "    predicted_id = tf.random.categorical(predictions, num_samples=1)[-1,0].numpy()\n",
        "\n",
        "    # 把预测字符和前面的隐藏状态一起传递给模型作为下一个输入\n",
        "    input_eval = tf.expand_dims([predicted_id], 0)\n",
        "    text_generated.append(idx2char[predicted_id])\n",
        "\n",
        "  return (start_string + ''.join(text_generated))"
      ],
      "execution_count": null,
      "outputs": []
    },
    {
      "cell_type": "code",
      "metadata": {
        "id": "0CNT9c50RFqV",
        "colab": {
          "base_uri": "https://localhost:8080/",
          "height": 156
        },
        "outputId": "bfb323fc-aff6-4de3-b5fd-0f4552ca48b6"
      },
      "source": [
        "print(generate_text(model, start_string=u'烟雨'))"
      ],
      "execution_count": null,
      "outputs": [
        {
          "output_type": "stream",
          "text": [
            "烟雨纷纷雨袅aYaHei\n",
            "哦跑到哪儿去啦\n",
            "面店旁的小水沟留着我的天气冷的让人生闷气\n",
            "火气我沮丧的悲哀\n",
            "只為永恒的乐曲存在醒过来\n",
            "鐘逆时鐘而过滤了你和我沦落面成美\n",
            "沉在盒子里的世界才能完美\n",
            "他们猜随便猜不重\n"
          ],
          "name": "stdout"
        }
      ]
    }
  ]
}